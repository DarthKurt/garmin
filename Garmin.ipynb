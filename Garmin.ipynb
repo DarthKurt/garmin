{
 "cells": [
  {
   "cell_type": "code",
   "execution_count": 32,
   "metadata": {
    "dotnet_interactive": {
     "language": "csharp"
    },
    "polyglot_notebook": {
     "kernelName": "csharp"
    }
   },
   "outputs": [],
   "source": [
    "#!csharp\n",
    "using System.Globalization;\n",
    "\n",
    "/// Garmin counts seconds from 31 Dec 1989\n",
    "private static readonly DateTime Baseline = new DateTime(1989, 12, 31, 0, 0, 0, DateTimeKind.Utc);\n",
    "\n",
    "private static DateTime GetDate(double ts) => Baseline.AddSeconds(ts);\n",
    "\n",
    "private static double GetTs(DateTime dt) => (dt - Baseline).TotalSeconds;\n",
    "\n",
    "private static DateTime ParseUtcDate(string input) => DateTime.ParseExact(input, \"dd.MM.yyyy HH:mm:ss\", null, DateTimeStyles.AssumeUniversal);\n",
    "private static DateTime ParseLocalDate(string input) => DateTime.ParseExact(input, \"dd.MM.yyyy HH:mm:ss\", null, DateTimeStyles.AssumeLocal);"
   ]
  },
  {
   "cell_type": "code",
   "execution_count": 33,
   "metadata": {
    "dotnet_interactive": {
     "language": "csharp"
    },
    "polyglot_notebook": {
     "kernelName": "csharp"
    }
   },
   "outputs": [],
   "source": [
    "#!csharp\n",
    "var input = \"03.02.2023 12:10:00\";\n",
    "\n",
    "var created_ts = GetTs(ParseUtcDate(input));\n",
    "var local_created_ts =  GetTs(ParseLocalDate(input));\n",
    "var events_ts = Enumerable.Range(1, 5).Select(i =>\n",
    "    {\n",
    "        var offset = 5 * i * 60;\n",
    "        return created_ts + offset;\n",
    "    }\n",
    ").ToArray();\n",
    "\n"
   ]
  },
  {
   "cell_type": "code",
   "execution_count": 34,
   "metadata": {
    "dotnet_interactive": {
     "language": "csharp"
    },
    "polyglot_notebook": {
     "kernelName": "csharp"
    }
   },
   "outputs": [
    {
     "name": "stdout",
     "output_type": "stream",
     "text": [
      "Created ts: 1044371400\n",
      "Created local ts: 1044360600\n",
      "Events ts:\n",
      "\t1044371700\n",
      "\t1044372000\n",
      "\t1044372300\n",
      "\t1044372600\n",
      "\t1044372900\n"
     ]
    }
   ],
   "source": [
    "Console.WriteLine($\"Created ts: {created_ts}\");\n",
    "Console.WriteLine($\"Created local ts: {local_created_ts}\");\n",
    "Console.WriteLine(\"Events ts:\");\n",
    "foreach(var e in events_ts)\n",
    "{\n",
    "    Console.WriteLine($\"\\t{e}\");\n",
    "}"
   ]
  },
  {
   "cell_type": "code",
   "execution_count": 36,
   "metadata": {
    "dotnet_interactive": {
     "language": "pwsh"
    },
    "polyglot_notebook": {
     "kernelName": "pwsh"
    }
   },
   "outputs": [
    {
     "name": "stdout",
     "output_type": "stream",
     "text": [
      "FIT CSV Tool - Protocol 2.0 Profile 21.94 Release\n",
      ".\\FitData.csv encoded into FIT binary file .\\Data.FIT.\n"
     ]
    }
   ],
   "source": [
    "java -jar D:\\FitSDKRelease_21.94.00\\java\\FitCSVTool.jar -c .\\FitData.csv .\\Data.FIT"
   ]
  }
 ],
 "metadata": {
  "kernelspec": {
   "display_name": ".NET (C#)",
   "language": "C#",
   "name": ".net-csharp"
  },
  "polyglot_notebook": {
   "kernelInfo": {
    "defaultKernelName": "csharp",
    "items": [
     {
      "aliases": [],
      "name": "csharp"
     }
    ]
   }
  }
 },
 "nbformat": 4,
 "nbformat_minor": 2
}
